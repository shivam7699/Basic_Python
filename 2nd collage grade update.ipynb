{
 "cells": [
  {
   "cell_type": "markdown",
   "id": "d2223e6d",
   "metadata": {},
   "source": [
    "# updated code"
   ]
  },
  {
   "cell_type": "code",
   "execution_count": 7,
   "id": "1787a90b",
   "metadata": {},
   "outputs": [
    {
     "name": "stdout",
     "output_type": "stream",
     "text": [
      "enter the no: 56\n",
      "55\n"
     ]
    }
   ],
   "source": [
    "i=int(input(\"enter the no: \"))\n",
    "if i>0 and i<=100:\n",
    "    if i<40 or i%5==0:\n",
    "        print(i)\n",
    "    else:\n",
    "        if i%5<3:\n",
    "            while i%5!=0:\n",
    "                i=i-1\n",
    "            print(i)    \n",
    "        else:\n",
    "            while i%5!=0:\n",
    "                i=i+1\n",
    "            print(i)\n",
    "else:\n",
    "    print(\"enter number between 0 to 100\")"
   ]
  },
  {
   "cell_type": "markdown",
   "id": "8b963bb1",
   "metadata": {},
   "source": [
    "# old code"
   ]
  },
  {
   "cell_type": "code",
   "execution_count": 67,
   "id": "0c1953d4",
   "metadata": {},
   "outputs": [
    {
     "name": "stdout",
     "output_type": "stream",
     "text": [
      "enterno:100\n",
      "enter grade between 0-100\n"
     ]
    }
   ],
   "source": [
    "grade = int(input(\"enterno:\"))\n",
    "t = grade\n",
    "i = t\n",
    "if grade <100 and grade >0:\n",
    "    if grade <= 40:\n",
    "        print(grade)\n",
    "        if grade % 5== 0:\n",
    "            print(grade)\n",
    "    else:\n",
    "        grade= grade % 5\n",
    "        if grade < 3 :\n",
    "            t = t-1\n",
    "            if t % 5==0:\n",
    "                print(t)\n",
    "            else:\n",
    "                t = i-2\n",
    "                print(t)\n",
    "        else:\n",
    "            t = t + 1\n",
    "            if t % 5==0:\n",
    "                print(t)\n",
    "            else:\n",
    "                t=t + 1\n",
    "                print(t)\n",
    "else:\n",
    "    print(\"enter grade between 0-100\")"
   ]
  },
  {
   "cell_type": "code",
   "execution_count": 5,
   "id": "abf9e025",
   "metadata": {},
   "outputs": [
    {
     "data": {
      "text/plain": [
       "2"
      ]
     },
     "execution_count": 5,
     "metadata": {},
     "output_type": "execute_result"
    }
   ],
   "source": [
    "62%5"
   ]
  }
 ],
 "metadata": {
  "kernelspec": {
   "display_name": "Python 3 (ipykernel)",
   "language": "python",
   "name": "python3"
  },
  "language_info": {
   "codemirror_mode": {
    "name": "ipython",
    "version": 3
   },
   "file_extension": ".py",
   "mimetype": "text/x-python",
   "name": "python",
   "nbconvert_exporter": "python",
   "pygments_lexer": "ipython3",
   "version": "3.9.12"
  }
 },
 "nbformat": 4,
 "nbformat_minor": 5
}
