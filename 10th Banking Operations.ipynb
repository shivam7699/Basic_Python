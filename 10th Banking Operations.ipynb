{
 "cells": [
  {
   "cell_type": "markdown",
   "id": "0d88d8e6",
   "metadata": {},
   "source": [
    "# updated code"
   ]
  },
  {
   "cell_type": "code",
   "execution_count": 91,
   "id": "77ca7b99",
   "metadata": {},
   "outputs": [
    {
     "name": "stdout",
     "output_type": "stream",
     "text": [
      "enter action D/W/Q: d\n"
     ]
    },
    {
     "ename": "IndexError",
     "evalue": "list index out of range",
     "output_type": "error",
     "traceback": [
      "\u001b[1;31m---------------------------------------------------------------------------\u001b[0m",
      "\u001b[1;31mIndexError\u001b[0m                                Traceback (most recent call last)",
      "Input \u001b[1;32mIn [91]\u001b[0m, in \u001b[0;36m<cell line: 4>\u001b[1;34m()\u001b[0m\n\u001b[0;32m      7\u001b[0m \u001b[38;5;28;01mif\u001b[39;00m a[\u001b[38;5;241m0\u001b[39m] \u001b[38;5;241m==\u001b[39m \u001b[38;5;124m'\u001b[39m\u001b[38;5;124mQ\u001b[39m\u001b[38;5;124m'\u001b[39m:\n\u001b[0;32m      8\u001b[0m     \u001b[38;5;28;01mbreak\u001b[39;00m\n\u001b[1;32m----> 9\u001b[0m amount\u001b[38;5;241m=\u001b[39m\u001b[38;5;28mint\u001b[39m(\u001b[43ma\u001b[49m\u001b[43m[\u001b[49m\u001b[38;5;241;43m1\u001b[39;49m\u001b[43m]\u001b[49m)\n\u001b[0;32m     10\u001b[0m \u001b[38;5;28;01mif\u001b[39;00m a[\u001b[38;5;241m0\u001b[39m] \u001b[38;5;241m==\u001b[39m \u001b[38;5;124m'\u001b[39m\u001b[38;5;124mD\u001b[39m\u001b[38;5;124m'\u001b[39m:\n\u001b[0;32m     11\u001b[0m     bank\u001b[38;5;241m=\u001b[39mbank\u001b[38;5;241m+\u001b[39mamount\n",
      "\u001b[1;31mIndexError\u001b[0m: list index out of range"
     ]
    }
   ],
   "source": [
    "bank=0\n",
    "z=True\n",
    "while True:\n",
    "    action=input('enter action D/W/Q: ').upper()\n",
    "    a=action.split(' ')\n",
    "    \n",
    "    if a[0] == 'Q':\n",
    "        break\n",
    "    amount=int(a[1])\n",
    "    if a[0] == 'D':\n",
    "        bank=bank+amount\n",
    "    if a[0] == 'W':\n",
    "        bank=bank-amount\n",
    "        if bank<amount:\n",
    "            print('sry u r bank blance is low: ')\n",
    "            z=False\n",
    "            break\n",
    "if z:\n",
    "    print('amont: ',bank)\n",
    "    "
   ]
  },
  {
   "cell_type": "code",
   "execution_count": 92,
   "id": "3373cd2c",
   "metadata": {},
   "outputs": [
    {
     "name": "stdout",
     "output_type": "stream",
     "text": [
      "enter your coise (d/w/q): d\n",
      "enter amount: 200\n",
      "enter your coise (d/w/q): w\n",
      "enter amount: 100\n",
      "enter your coise (d/w/q): d\n",
      "enter amount: 500\n",
      "enter your coise (d/w/q): w\n",
      "enter amount: 200\n",
      "enter your coise (d/w/q): q\n",
      "the final amount:  400\n"
     ]
    }
   ],
   "source": [
    "p=0\n",
    "while True:\n",
    "    e = input(\"enter your coise (d/w/q): \")\n",
    "    e = e.upper()\n",
    "    if e == 'D':\n",
    "        n = int(input('enter amount: '))\n",
    "        p = p + n\n",
    "    elif e == 'W' :\n",
    "        n=int(input('enter amount: '))\n",
    "        p = p - n\n",
    "    elif e == 'Q' :\n",
    "        break\n",
    "print('the final amount: ',p)\n",
    "    "
   ]
  },
  {
   "cell_type": "code",
   "execution_count": null,
   "id": "4d50c76d",
   "metadata": {},
   "outputs": [],
   "source": []
  },
  {
   "cell_type": "code",
   "execution_count": null,
   "id": "ab2b309a",
   "metadata": {},
   "outputs": [],
   "source": [
    "account_name = []\n",
    "bank=0\n",
    "z=True\n",
    "while True:\n",
    "    action=input('enter action CREATE/DEPOSIT/WITHDRAW/Queit: ').upper()\n",
    "    a=action.split(' ')\n",
    "    account_name.append(a[1])\n",
    "    if \n",
    "    if a[0] == 'Queit':\n",
    "        break\n",
    "    amount=int(a[1])\n",
    "    if a[0] == 'DEPOSIT':\n",
    "        bank=bank+amount\n",
    "    if a[0] == 'WITHDRAW':\n",
    "        bank=bank-amount\n",
    "        if bank<amount:\n",
    "            print('sry u r bank blance is low: ')\n",
    "            z=False\n",
    "            break\n",
    "if z:\n",
    "    print('amont: ',bank)\n",
    "    "
   ]
  },
  {
   "cell_type": "code",
   "execution_count": 4,
   "id": "1be0fa0f",
   "metadata": {},
   "outputs": [
    {
     "name": "stdout",
     "output_type": "stream",
     "text": [
      "enter action CREATE/DEPOSIT/WITHDRAW/Queit: CREATE ACC001 KELP\n"
     ]
    },
    {
     "data": {
      "text/plain": [
       "['CREATE', 'ACC001', 'KELP']"
      ]
     },
     "execution_count": 4,
     "metadata": {},
     "output_type": "execute_result"
    }
   ],
   "source": [
    "action=input('enter action CREATE/DEPOSIT/WITHDRAW/Queit: ').upper()\n",
    "a=action.split(' ')\n",
    "a"
   ]
  },
  {
   "cell_type": "code",
   "execution_count": null,
   "id": "3f2ba7d8",
   "metadata": {},
   "outputs": [],
   "source": []
  },
  {
   "cell_type": "code",
   "execution_count": null,
   "id": "8ecff76e",
   "metadata": {},
   "outputs": [],
   "source": []
  },
  {
   "cell_type": "code",
   "execution_count": null,
   "id": "24241f56",
   "metadata": {},
   "outputs": [],
   "source": []
  },
  {
   "cell_type": "code",
   "execution_count": 87,
   "id": "4b164286",
   "metadata": {},
   "outputs": [],
   "source": [
    "acc_no = ()\n",
    "cus_name = ()\n",
    "Bal= 0\n",
    "def create_account():\n",
    "    acc_no = input(\"create acc\")\n",
    "    cus_name = str(input('enter name')) \n",
    "    \n",
    "def Deposit(amount):\n",
    "    Bal= 0\n",
    "    Bal = Bal + amount\n",
    "    BALANCE()\n",
    "def Withdraw(amount):\n",
    "    \n",
    "    if amount<=Bal:\n",
    "        Bal = Bal - amount\n",
    "    else:\n",
    "        print('your bal is low:')\n",
    "def BALANCE():\n",
    "    print(Bal,cus_name)\n"
   ]
  },
  {
   "cell_type": "code",
   "execution_count": 89,
   "id": "8ce685b8",
   "metadata": {},
   "outputs": [
    {
     "name": "stdout",
     "output_type": "stream",
     "text": [
      " 1.create_acc \n",
      " 2.deposite \n",
      " 3.withdraw \n",
      " 4.check_bal \n",
      " 5.quit \n",
      "2\n",
      "enter amount to deposit: 500\n",
      "500 ()\n",
      " 1.create_acc \n",
      " 2.deposite \n",
      " 3.withdraw \n",
      " 4.check_bal \n",
      " 5.quit \n",
      "4\n",
      "0 ()\n",
      " 1.create_acc \n",
      " 2.deposite \n",
      " 3.withdraw \n",
      " 4.check_bal \n",
      " 5.quit \n",
      "5\n"
     ]
    }
   ],
   "source": [
    "while True:\n",
    "    choice = input(' 1.create_acc \\n 2.deposite \\n 3.withdraw \\n 4.check_bal \\n 5.quit \\n')\n",
    "    if (choice=='1'):\n",
    "        create_account()\n",
    "    elif(choice=='2'):\n",
    "        amnt =int(input('enter amount to deposit: '))\n",
    "        Deposit(amnt)\n",
    "    elif(choice=='3'):\n",
    "        amnt =int(input('enter amount to w: '))\n",
    "        Withdraw(amnt)\n",
    "    elif(choice=='4'):\n",
    "        BALANCE(bal)\n",
    "    elif(choice=='5'):\n",
    "        break "
   ]
  },
  {
   "cell_type": "code",
   "execution_count": null,
   "id": "c8aef6fd",
   "metadata": {},
   "outputs": [],
   "source": []
  },
  {
   "cell_type": "code",
   "execution_count": null,
   "id": "bb38929e",
   "metadata": {},
   "outputs": [],
   "source": []
  },
  {
   "cell_type": "code",
   "execution_count": null,
   "id": "011bfbb0",
   "metadata": {},
   "outputs": [],
   "source": []
  },
  {
   "cell_type": "code",
   "execution_count": null,
   "id": "7927c7f2",
   "metadata": {},
   "outputs": [],
   "source": []
  }
 ],
 "metadata": {
  "kernelspec": {
   "display_name": "Python 3 (ipykernel)",
   "language": "python",
   "name": "python3"
  },
  "language_info": {
   "codemirror_mode": {
    "name": "ipython",
    "version": 3
   },
   "file_extension": ".py",
   "mimetype": "text/x-python",
   "name": "python",
   "nbconvert_exporter": "python",
   "pygments_lexer": "ipython3",
   "version": "3.9.12"
  }
 },
 "nbformat": 4,
 "nbformat_minor": 5
}
