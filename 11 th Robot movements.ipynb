{
 "cells": [
  {
   "cell_type": "code",
   "execution_count": 21,
   "id": "5a56990f",
   "metadata": {},
   "outputs": [
    {
     "name": "stdout",
     "output_type": "stream",
     "text": [
      "enter choice up/down/left/right: up 5\n",
      "enter choice up/down/left/right: left 3\n",
      "enter choice up/down/left/right: down 6\n",
      "enter choice up/down/left/right: right 4\n",
      "enter choice up/down/left/right: stop\n",
      "1 -1\n"
     ]
    }
   ],
   "source": [
    "x,y=(0,0)\n",
    "\n",
    "while True:\n",
    "    s=input('enter choice up/down/left/right: ')\n",
    "    s=s.upper()\n",
    "    s=s.split(' ')\n",
    "    if s[0] == 'UP':\n",
    "        p=int(s[1])\n",
    "        y=y+p\n",
    "        \n",
    "        \n",
    "    elif s[0] == 'DOWN':\n",
    "        p=int(s[1])\n",
    "        y=y-p\n",
    "        \n",
    "        \n",
    "    elif s[0] == 'LEFT':\n",
    "        p=int(s[1])\n",
    "        x=x-p\n",
    "        \n",
    "        \n",
    "    elif s[0] == 'RIGHT':\n",
    "        p=int(s[1])\n",
    "        x=x+p\n",
    "        \n",
    "    elif s[0] == 'STOP':\n",
    "        print(x,y)\n",
    "        break\n"
   ]
  },
  {
   "cell_type": "code",
   "execution_count": null,
   "id": "971b6ab8",
   "metadata": {},
   "outputs": [],
   "source": []
  },
  {
   "cell_type": "code",
   "execution_count": null,
   "id": "9bd9dda6",
   "metadata": {},
   "outputs": [],
   "source": []
  },
  {
   "cell_type": "code",
   "execution_count": null,
   "id": "cb99def6",
   "metadata": {},
   "outputs": [],
   "source": []
  },
  {
   "cell_type": "code",
   "execution_count": null,
   "id": "ecdac8fc",
   "metadata": {},
   "outputs": [],
   "source": [
    " x,y=(0,0)\n",
    "q=0\n",
    "while True:\n",
    "    s=input('enter choice up/down/left/right: ')\n",
    "    s=s.upper()\n",
    "    if s == 'UP':\n",
    "        q = int(input('enter no: '))\n",
    "        y= y + q\n",
    "        \n",
    "    elif s == 'DOWN':\n",
    "        q = int(input('enter no: '))\n",
    "        y= y - q\n",
    "        \n",
    "    elif s == 'RIGHT':\n",
    "        q = int(input('enter no: '))\n",
    "        x= x + q\n",
    "        \n",
    "    elif s == 'LEFT':\n",
    "        q = int(input('enter no: '))\n",
    "        x= x - q\n",
    "        \n",
    "    elif s == \"STOP\":\n",
    "        break\n",
    "print(x,',',y)"
   ]
  }
 ],
 "metadata": {
  "kernelspec": {
   "display_name": "Python 3 (ipykernel)",
   "language": "python",
   "name": "python3"
  },
  "language_info": {
   "codemirror_mode": {
    "name": "ipython",
    "version": 3
   },
   "file_extension": ".py",
   "mimetype": "text/x-python",
   "name": "python",
   "nbconvert_exporter": "python",
   "pygments_lexer": "ipython3",
   "version": "3.9.12"
  }
 },
 "nbformat": 4,
 "nbformat_minor": 5
}
