{
 "cells": [
  {
   "cell_type": "code",
   "execution_count": 1,
   "id": "d1862b19",
   "metadata": {},
   "outputs": [
    {
     "name": "stdout",
     "output_type": "stream",
     "text": [
      "hello\n"
     ]
    }
   ],
   "source": [
    "print(\"hello\")"
   ]
  },
  {
   "cell_type": "code",
   "execution_count": 8,
   "id": "08ca45f7",
   "metadata": {},
   "outputs": [
    {
     "name": "stdout",
     "output_type": "stream",
     "text": [
      "final tax is 19124436.099999998\n"
     ]
    }
   ],
   "source": [
    "income = 64539787\n",
    "if income <= 250000:\n",
    "    tax = 0\n",
    "elif income>250000 and income <= 500000:\n",
    "    tax = 0 + (income - 250000)*0.05 \n",
    "elif income > 500000 and income <=1000000:\n",
    "    tax = 0 + 12500 + (income - 500000)*0.1\n",
    "elif income > 1000000:\n",
    "    tax = 0 + 12500 + 50000 + (income - 1000000)*0.3\n",
    "print(\"final tax is\",tax)    \n",
    "    "
   ]
  },
  {
   "cell_type": "code",
   "execution_count": null,
   "id": "281e2cba",
   "metadata": {},
   "outputs": [],
   "source": []
  }
 ],
 "metadata": {
  "kernelspec": {
   "display_name": "Python 3 (ipykernel)",
   "language": "python",
   "name": "python3"
  },
  "language_info": {
   "codemirror_mode": {
    "name": "ipython",
    "version": 3
   },
   "file_extension": ".py",
   "mimetype": "text/x-python",
   "name": "python",
   "nbconvert_exporter": "python",
   "pygments_lexer": "ipython3",
   "version": "3.9.12"
  }
 },
 "nbformat": 4,
 "nbformat_minor": 5
}
