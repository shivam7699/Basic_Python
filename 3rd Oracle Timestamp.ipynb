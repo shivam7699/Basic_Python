{
 "cells": [
  {
   "cell_type": "code",
   "execution_count": 17,
   "id": "3a0472cc",
   "metadata": {},
   "outputs": [
    {
     "name": "stdout",
     "output_type": "stream",
     "text": [
      "enter date: and time:1999=12=31 23:59:50.10\n",
      "\n",
      "date: 31 month: 12 year: 1999 hour: 23 mins: 59 "
     ]
    }
   ],
   "source": [
    "d = input(\"enter date: and time:\")\n",
    "print()\n",
    "print(\"date:\",d[8:10:1], end=\" \")\n",
    "print(\"month:\",d[5:7:1], end=\" \")\n",
    "print(\"year:\",d[0:4:1], end=\" \")\n",
    "print(\"hour:\",d[11:13:1], end=\" \")\n",
    "print(\"mins:\",d[14:16:1], end=\" \")"
   ]
  },
  {
   "cell_type": "code",
   "execution_count": 7,
   "id": "0230c6d7",
   "metadata": {},
   "outputs": [],
   "source": []
  },
  {
   "cell_type": "code",
   "execution_count": 13,
   "id": "f45c0c3d",
   "metadata": {},
   "outputs": [
    {
     "ename": "IndentationError",
     "evalue": "unexpected indent (715052666.py, line 6)",
     "output_type": "error",
     "traceback": [
      "\u001b[1;36m  Input \u001b[1;32mIn [13]\u001b[1;36m\u001b[0m\n\u001b[1;33m    min=Bdate[14:16:1]\u001b[0m\n\u001b[1;37m    ^\u001b[0m\n\u001b[1;31mIndentationError\u001b[0m\u001b[1;31m:\u001b[0m unexpected indent\n"
     ]
    }
   ],
   "source": [
    "\n"
   ]
  }
 ],
 "metadata": {
  "kernelspec": {
   "display_name": "Python 3 (ipykernel)",
   "language": "python",
   "name": "python3"
  },
  "language_info": {
   "codemirror_mode": {
    "name": "ipython",
    "version": 3
   },
   "file_extension": ".py",
   "mimetype": "text/x-python",
   "name": "python",
   "nbconvert_exporter": "python",
   "pygments_lexer": "ipython3",
   "version": "3.9.12"
  }
 },
 "nbformat": 4,
 "nbformat_minor": 5
}
