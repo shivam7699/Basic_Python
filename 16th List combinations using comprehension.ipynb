{
 "cells": [
  {
   "cell_type": "code",
   "execution_count": 17,
   "id": "c529dce5",
   "metadata": {},
   "outputs": [
    {
     "name": "stdout",
     "output_type": "stream",
     "text": [
      "['@1a', '@1b', '@1c', '@2a', '@2b', '@2c', '@3a', '@3b', '@3c', '#1a', '#1b', '#1c', '#2a', '#2b', '#2c', '#3a', '#3b', '#3c', '$1a', '$1b', '$1c', '$2a', '$2b', '$2c', '$3a', '$3b', '$3c']\n"
     ]
    }
   ],
   "source": [
    "special_symbols = ['@','#','$'] \n",
    "numbers = ['1','2','3'] \n",
    "alphabets = ['a','b','c'] \n",
    "y=[i+g+h for i in special_symbols for g in numbers for h in alphabets]\n",
    "print(y)"
   ]
  },
  {
   "cell_type": "code",
   "execution_count": 7,
   "id": "7e98ad7e",
   "metadata": {},
   "outputs": [],
   "source": []
  },
  {
   "cell_type": "code",
   "execution_count": 8,
   "id": "31d30110",
   "metadata": {},
   "outputs": [],
   "source": []
  },
  {
   "cell_type": "code",
   "execution_count": null,
   "id": "4c8bafab",
   "metadata": {},
   "outputs": [],
   "source": []
  },
  {
   "cell_type": "code",
   "execution_count": null,
   "id": "f8fd7af7",
   "metadata": {},
   "outputs": [],
   "source": []
  },
  {
   "cell_type": "code",
   "execution_count": null,
   "id": "4e2eea11",
   "metadata": {},
   "outputs": [],
   "source": []
  }
 ],
 "metadata": {
  "kernelspec": {
   "display_name": "Python 3 (ipykernel)",
   "language": "python",
   "name": "python3"
  },
  "language_info": {
   "codemirror_mode": {
    "name": "ipython",
    "version": 3
   },
   "file_extension": ".py",
   "mimetype": "text/x-python",
   "name": "python",
   "nbconvert_exporter": "python",
   "pygments_lexer": "ipython3",
   "version": "3.9.12"
  }
 },
 "nbformat": 4,
 "nbformat_minor": 5
}
