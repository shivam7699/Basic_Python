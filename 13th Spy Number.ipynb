{
 "cells": [
  {
   "cell_type": "code",
   "execution_count": 2,
   "id": "71ea4d1b",
   "metadata": {},
   "outputs": [
    {
     "name": "stdout",
     "output_type": "stream",
     "text": [
      "enter number between 100 to 500: 121\n",
      "this is not spy number\n"
     ]
    }
   ],
   "source": [
    "n = input('enter number between 100 to 500: ')\n",
    "s=0\n",
    "p=1\n",
    "if '100'<=n<='500':\n",
    "    for i in n:\n",
    "        s=s+int(i)\n",
    "        p=p*int(i)\n",
    "else:\n",
    "    print('enter no between 100 to 500: ')\n",
    "\n",
    "if p==s:\n",
    "    print(\"this is spy number\")\n",
    "else:\n",
    "    print('this is not spy number')"
   ]
  },
  {
   "cell_type": "code",
   "execution_count": 5,
   "id": "f43e917b",
   "metadata": {},
   "outputs": [
    {
     "name": "stdout",
     "output_type": "stream",
     "text": [
      "Enter a range:\n",
      "100\n",
      "500\n",
      "Spy numbers between  100  and  500  are: \n",
      "123 132 213 231 312 321 "
     ]
    }
   ],
   "source": [
    "print(\"Enter a range:\")\n",
    "range1=int(input())\n",
    "range2=int(input())\n",
    "print(\"Spy numbers between \",range1,\" and \",range2,\" are: \")\n",
    "for i in range(range1,range2+1):\n",
    "    num=i\n",
    "    sum = 0\n",
    "    mult = 1\n",
    "    while num != 0:\n",
    "        rem = num % 10\n",
    "        sum += rem\n",
    "        mult *= rem\n",
    "        num //= 10\n",
    "\n",
    "    if sum == mult:\n",
    "        print(i,end=\" \")"
   ]
  }
 ],
 "metadata": {
  "kernelspec": {
   "display_name": "Python 3 (ipykernel)",
   "language": "python",
   "name": "python3"
  },
  "language_info": {
   "codemirror_mode": {
    "name": "ipython",
    "version": 3
   },
   "file_extension": ".py",
   "mimetype": "text/x-python",
   "name": "python",
   "nbconvert_exporter": "python",
   "pygments_lexer": "ipython3",
   "version": "3.9.12"
  }
 },
 "nbformat": 4,
 "nbformat_minor": 5
}
