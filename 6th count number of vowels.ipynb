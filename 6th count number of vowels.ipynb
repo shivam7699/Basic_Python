{
 "cells": [
  {
   "cell_type": "code",
   "execution_count": 1,
   "id": "4e3ea43e",
   "metadata": {},
   "outputs": [
    {
     "name": "stdout",
     "output_type": "stream",
     "text": [
      "enter a string: shivam\n",
      "str1= shivam => 2\n"
     ]
    }
   ],
   "source": [
    "sentence=input('enter a string: ')\n",
    "s=sentence\n",
    "sentence=sentence.lower()\n",
    "v_count=0\n",
    "for i in sentence:\n",
    "    if i=='a' or i=='e' or i=='i' or i=='o' or i=='u':\n",
    "        v_count=v_count+1\n",
    "print(\"str1=\",s,\"=>\",v_count)  "
   ]
  },
  {
   "cell_type": "markdown",
   "id": "a52a58f1",
   "metadata": {},
   "source": [
    "# 2nd method"
   ]
  },
  {
   "cell_type": "code",
   "execution_count": 3,
   "id": "c7331045",
   "metadata": {},
   "outputs": [
    {
     "name": "stdout",
     "output_type": "stream",
     "text": [
      "enter a string: shivam\n",
      "str1= shivam => 2\n"
     ]
    }
   ],
   "source": [
    "sentence=input('enter a string: ')\n",
    "s=sentence\n",
    "sentence=sentence.lower()\n",
    "v_count=0\n",
    "v=\"aeiou\"\n",
    "for i in sentence:\n",
    "    if i in v:\n",
    "        v_count=v_count+1\n",
    "print(\"str1=\",s,\"=>\",v_count) "
   ]
  },
  {
   "cell_type": "code",
   "execution_count": null,
   "id": "a6094705",
   "metadata": {},
   "outputs": [],
   "source": []
  },
  {
   "cell_type": "code",
   "execution_count": null,
   "id": "1fb5cd88",
   "metadata": {},
   "outputs": [],
   "source": []
  },
  {
   "cell_type": "code",
   "execution_count": null,
   "id": "3ef41ffe",
   "metadata": {},
   "outputs": [],
   "source": []
  }
 ],
 "metadata": {
  "kernelspec": {
   "display_name": "Python 3 (ipykernel)",
   "language": "python",
   "name": "python3"
  },
  "language_info": {
   "codemirror_mode": {
    "name": "ipython",
    "version": 3
   },
   "file_extension": ".py",
   "mimetype": "text/x-python",
   "name": "python",
   "nbconvert_exporter": "python",
   "pygments_lexer": "ipython3",
   "version": "3.9.12"
  }
 },
 "nbformat": 4,
 "nbformat_minor": 5
}
