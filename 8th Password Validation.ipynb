{
 "cells": [
  {
   "cell_type": "code",
   "execution_count": 1,
   "id": "3839f2ff",
   "metadata": {},
   "outputs": [
    {
     "name": "stdout",
     "output_type": "stream",
     "text": [
      "enter password: Shiva#7699\n",
      "valid\n"
     ]
    }
   ],
   "source": [
    "import re\n",
    "p=input(\"enter password: \")\n",
    "flag=0\n",
    "if len(p)>=6 and len(p)<=12:\n",
    "    \n",
    "    if not re.search('[a-z]',p):\n",
    "        flag=1\n",
    "    if not re.search('[A-Z]',p):\n",
    "        flag=1\n",
    "    if not re.search('[0-9]',p):\n",
    "        flag=1\n",
    "    if not re.search('[!@#$]',p):\n",
    "        flag=1\n",
    "    if flag==1:\n",
    "        print('invalid')\n",
    "    else:\n",
    "        print('valid')\n",
    "else:\n",
    "    print(\"invalid\")"
   ]
  }
 ],
 "metadata": {
  "kernelspec": {
   "display_name": "Python 3 (ipykernel)",
   "language": "python",
   "name": "python3"
  },
  "language_info": {
   "codemirror_mode": {
    "name": "ipython",
    "version": 3
   },
   "file_extension": ".py",
   "mimetype": "text/x-python",
   "name": "python",
   "nbconvert_exporter": "python",
   "pygments_lexer": "ipython3",
   "version": "3.9.12"
  }
 },
 "nbformat": 4,
 "nbformat_minor": 5
}
