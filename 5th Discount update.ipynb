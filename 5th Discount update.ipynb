{
 "cells": [
  {
   "cell_type": "code",
   "execution_count": 5,
   "id": "8fcb247d",
   "metadata": {},
   "outputs": [
    {
     "name": "stdout",
     "output_type": "stream",
     "text": [
      "enter the amont: $500\n",
      "Discount amont is: $425.0\n"
     ]
    }
   ],
   "source": [
    "n=input('enter the amont: ')\n",
    "y=n.split('$')\n",
    "y=int(y[1])\n",
    "result=(y*15)/100    # use single / for taking value with fraction.\n",
    "result=y-result\n",
    "result=str(result)\n",
    "d=str('$')\n",
    "print('Discount amont is:',d+result)\n"
   ]
  },
  {
   "cell_type": "code",
   "execution_count": null,
   "id": "03dd851f",
   "metadata": {},
   "outputs": [],
   "source": []
  }
 ],
 "metadata": {
  "kernelspec": {
   "display_name": "Python 3 (ipykernel)",
   "language": "python",
   "name": "python3"
  },
  "language_info": {
   "codemirror_mode": {
    "name": "ipython",
    "version": 3
   },
   "file_extension": ".py",
   "mimetype": "text/x-python",
   "name": "python",
   "nbconvert_exporter": "python",
   "pygments_lexer": "ipython3",
   "version": "3.9.12"
  }
 },
 "nbformat": 4,
 "nbformat_minor": 5
}
