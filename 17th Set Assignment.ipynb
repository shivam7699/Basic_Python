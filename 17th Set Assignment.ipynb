{
 "cells": [
  {
   "cell_type": "code",
   "execution_count": 2,
   "id": "babe2491",
   "metadata": {},
   "outputs": [],
   "source": [
    "G1 = {1,2,3,4,5,6,7,8,9} # Cricket\n",
    "G2 = {5,6,7,8,9,10,11,12,13} # FootBall\n",
    "G3 = {1,2,6,7,11,12,15,16,20} # Chess"
   ]
  },
  {
   "cell_type": "code",
   "execution_count": 4,
   "id": "98899384",
   "metadata": {},
   "outputs": [
    {
     "data": {
      "text/plain": [
       "{1, 2, 3, 4, 5, 6, 7, 8, 9, 10, 11, 12, 13}"
      ]
     },
     "execution_count": 4,
     "metadata": {},
     "output_type": "execute_result"
    }
   ],
   "source": [
    "#1. Find out the roll number of students who play outdoor games only. \n",
    "G1.union(G2)"
   ]
  },
  {
   "cell_type": "code",
   "execution_count": 5,
   "id": "ffbf51a7",
   "metadata": {},
   "outputs": [
    {
     "data": {
      "text/plain": [
       "{6, 7}"
      ]
     },
     "execution_count": 5,
     "metadata": {},
     "output_type": "execute_result"
    }
   ],
   "source": [
    "#2. Find out the roll number of students who play all games. \n",
    "G1.intersection(G2).intersection(G3)"
   ]
  },
  {
   "cell_type": "code",
   "execution_count": 11,
   "id": "e16d76de",
   "metadata": {},
   "outputs": [
    {
     "data": {
      "text/plain": [
       "{14, 17, 18, 19}"
      ]
     },
     "execution_count": 11,
     "metadata": {},
     "output_type": "execute_result"
    }
   ],
   "source": [
    "#3. Find out the roll number of students who play nothing.\n",
    "demo={1,2,3,4,5,6,7,8,9,10,11,12,13,14,15,16,17,18,19,20}\n",
    "temp=G1.union(G2).union(G3) \n",
    "demo.difference(temp)"
   ]
  },
  {
   "cell_type": "code",
   "execution_count": 14,
   "id": "8c3edaea",
   "metadata": {},
   "outputs": [
    {
     "data": {
      "text/plain": [
       "{1, 2, 6, 7, 11, 12}"
      ]
     },
     "execution_count": 14,
     "metadata": {},
     "output_type": "execute_result"
    }
   ],
   "source": [
    "#4. Find out the roll number of students who play \"at least one outdoor game\" and chess. \n",
    "G1.union(G2).intersection(G3)"
   ]
  },
  {
   "cell_type": "code",
   "execution_count": 16,
   "id": "525fc5e3",
   "metadata": {},
   "outputs": [
    {
     "data": {
      "text/plain": [
       "{1, 2}"
      ]
     },
     "execution_count": 16,
     "metadata": {},
     "output_type": "execute_result"
    }
   ],
   "source": [
    "#5. Find out the roll number of students who play cricket and chess but not football.\n",
    "G1.intersection(G3).difference(G2)"
   ]
  },
  {
   "cell_type": "code",
   "execution_count": null,
   "id": "8650ec10",
   "metadata": {},
   "outputs": [],
   "source": []
  },
  {
   "cell_type": "code",
   "execution_count": null,
   "id": "1163e2ec",
   "metadata": {},
   "outputs": [],
   "source": []
  },
  {
   "cell_type": "code",
   "execution_count": null,
   "id": "225e05c2",
   "metadata": {},
   "outputs": [],
   "source": []
  },
  {
   "cell_type": "code",
   "execution_count": null,
   "id": "c1b83b9d",
   "metadata": {},
   "outputs": [],
   "source": []
  }
 ],
 "metadata": {
  "kernelspec": {
   "display_name": "Python 3 (ipykernel)",
   "language": "python",
   "name": "python3"
  },
  "language_info": {
   "codemirror_mode": {
    "name": "ipython",
    "version": 3
   },
   "file_extension": ".py",
   "mimetype": "text/x-python",
   "name": "python",
   "nbconvert_exporter": "python",
   "pygments_lexer": "ipython3",
   "version": "3.9.12"
  }
 },
 "nbformat": 4,
 "nbformat_minor": 5
}
