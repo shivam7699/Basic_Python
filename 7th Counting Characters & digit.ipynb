{
 "cells": [
  {
   "cell_type": "code",
   "execution_count": 2,
   "id": "cae6e484",
   "metadata": {},
   "outputs": [
    {
     "name": "stdout",
     "output_type": "stream",
     "text": [
      "enter entence: shiva@HGH7699\n",
      "alphabate =  8 digit =  4\n"
     ]
    }
   ],
   "source": [
    "n=input(\"enter entence: \")\n",
    "n=n.upper()\n",
    "a_count=0\n",
    "d_count=0\n",
    "for i in n:\n",
    "    if i>='A' and i<='Z':\n",
    "        a_count=a_count+1\n",
    "print(\"alphabate = \",a_count , end=\" \")\n",
    "\n",
    "for i in n:\n",
    "    if i>='0' and i<='9':\n",
    "        d_count=d_count+1\n",
    "print(\"digit = \", d_count) "
   ]
  }
 ],
 "metadata": {
  "kernelspec": {
   "display_name": "Python 3 (ipykernel)",
   "language": "python",
   "name": "python3"
  },
  "language_info": {
   "codemirror_mode": {
    "name": "ipython",
    "version": 3
   },
   "file_extension": ".py",
   "mimetype": "text/x-python",
   "name": "python",
   "nbconvert_exporter": "python",
   "pygments_lexer": "ipython3",
   "version": "3.9.12"
  }
 },
 "nbformat": 4,
 "nbformat_minor": 5
}
