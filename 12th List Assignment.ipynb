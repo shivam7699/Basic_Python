{
 "cells": [
  {
   "cell_type": "code",
   "execution_count": 1,
   "id": "d00e75cc",
   "metadata": {},
   "outputs": [
    {
     "name": "stdout",
     "output_type": "stream",
     "text": [
      "['35', '120000']\n"
     ]
    }
   ],
   "source": [
    "n=(\"My name is XYZ. My employee id is E1289 and age is 35 and salary is 120000 rs.\")\n",
    "s=n.split(' ')\n",
    "re=[]\n",
    "for i in s:\n",
    "    if i.isdecimal():\n",
    "        re.append(i)\n",
    "print(re)\n"
   ]
  }
 ],
 "metadata": {
  "kernelspec": {
   "display_name": "Python 3 (ipykernel)",
   "language": "python",
   "name": "python3"
  },
  "language_info": {
   "codemirror_mode": {
    "name": "ipython",
    "version": 3
   },
   "file_extension": ".py",
   "mimetype": "text/x-python",
   "name": "python",
   "nbconvert_exporter": "python",
   "pygments_lexer": "ipython3",
   "version": "3.9.12"
  }
 },
 "nbformat": 4,
 "nbformat_minor": 5
}
