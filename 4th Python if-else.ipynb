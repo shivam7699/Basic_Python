{
 "cells": [
  {
   "cell_type": "code",
   "execution_count": 1,
   "id": "da0ae300",
   "metadata": {},
   "outputs": [
    {
     "name": "stdout",
     "output_type": "stream",
     "text": [
      "enter no:24\n",
      "not weird\n"
     ]
    }
   ],
   "source": [
    "n=int(input(\"enter no:\"))\n",
    "if 1<= n <= 100:\n",
    "    if n%2==0 or n%5==0:\n",
    "        if n%6==0 and n<20 or n%20==0 and n<20:\n",
    "            print(\"weird\")\n",
    "        else:    \n",
    "            print(\"not weird\")\n",
    "    elif n%2!=0  :\n",
    "        print(\"weird\")\n",
    "else:\n",
    "    print(\"enter no between 1 to 100\")"
   ]
  },
  {
   "cell_type": "code",
   "execution_count": null,
   "id": "12789b7f",
   "metadata": {},
   "outputs": [],
   "source": []
  },
  {
   "cell_type": "code",
   "execution_count": null,
   "id": "831908db",
   "metadata": {},
   "outputs": [],
   "source": []
  },
  {
   "cell_type": "code",
   "execution_count": null,
   "id": "1a0e51bb",
   "metadata": {},
   "outputs": [],
   "source": []
  }
 ],
 "metadata": {
  "kernelspec": {
   "display_name": "Python 3 (ipykernel)",
   "language": "python",
   "name": "python3"
  },
  "language_info": {
   "codemirror_mode": {
    "name": "ipython",
    "version": 3
   },
   "file_extension": ".py",
   "mimetype": "text/x-python",
   "name": "python",
   "nbconvert_exporter": "python",
   "pygments_lexer": "ipython3",
   "version": "3.9.12"
  }
 },
 "nbformat": 4,
 "nbformat_minor": 5
}
