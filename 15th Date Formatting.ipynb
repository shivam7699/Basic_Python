{
 "cells": [
  {
   "cell_type": "code",
   "execution_count": 1,
   "id": "b22df2a9",
   "metadata": {},
   "outputs": [],
   "source": [
    "def f11(n):\n",
    "    MONTH = [None, 'Jan', 'Feb','Mar','Apr','May','Jun','Jul','Aug','Sep','Oct','Nov','Dec'] \n",
    "    n=n.split('/')\n",
    "    i=int(n[1])\n",
    "    m=MONTH[i]\n",
    "    n[1]=m\n",
    "    for i in n:\n",
    "        print(i,'',end='')"
   ]
  },
  {
   "cell_type": "code",
   "execution_count": 5,
   "id": "7f1bc141",
   "metadata": {},
   "outputs": [
    {
     "name": "stdout",
     "output_type": "stream",
     "text": [
      "enter birthdate: 9/9/2021\n",
      "9 Sep 2021 "
     ]
    }
   ],
   "source": [
    "n=input('enter birthdate: ')\n",
    "f11(n)"
   ]
  }
 ],
 "metadata": {
  "kernelspec": {
   "display_name": "Python 3 (ipykernel)",
   "language": "python",
   "name": "python3"
  },
  "language_info": {
   "codemirror_mode": {
    "name": "ipython",
    "version": 3
   },
   "file_extension": ".py",
   "mimetype": "text/x-python",
   "name": "python",
   "nbconvert_exporter": "python",
   "pygments_lexer": "ipython3",
   "version": "3.9.12"
  }
 },
 "nbformat": 4,
 "nbformat_minor": 5
}
